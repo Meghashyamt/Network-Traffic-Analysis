{
 "cells": [
  {
   "cell_type": "code",
   "execution_count": 1,
   "metadata": {
    "colab": {
     "base_uri": "https://localhost:8080/",
     "height": 35
    },
    "colab_type": "code",
    "id": "6USCNvxvc1tg",
    "outputId": "a9e06c62-6c41-4728-baf0-acbf7896ecb1"
   },
   "outputs": [
    {
     "data": {
      "application/vnd.google.colaboratory.intrinsic": {
       "type": "string"
      },
      "text/plain": [
       "'\\nFile presents operations performed in order to preprocess data to use in machine learning algorithms. \\nDataset downloaded from: https://www.kaggle.com/jsrojas/ip-network-traffic-flows-labeled-with-87-apps\\n'"
      ]
     },
     "execution_count": 1,
     "metadata": {
      "tags": []
     },
     "output_type": "execute_result"
    }
   ],
   "source": [
    "\"\"\"\n",
    "File presents operations performed in order to preprocess data to use in machine learning algorithms. \n",
    "Dataset downloaded from: https://www.kaggle.com/jsrojas/ip-network-traffic-flows-labeled-with-87-apps\n",
    "\"\"\""
   ]
  },
  {
   "cell_type": "code",
   "execution_count": 2,
   "metadata": {
    "colab": {},
    "colab_type": "code",
    "id": "R8xEsZk5gAdX"
   },
   "outputs": [],
   "source": [
    "import numpy as np\n",
    "import pandas as pd\n",
    "import matplotlib.pyplot as plt\n",
    "\n",
    "import socket, struct\n",
    "\n",
    "import imblearn\n",
    "from imblearn.under_sampling import RandomUnderSampler\n",
    "from sklearn.preprocessing import LabelEncoder\n",
    "from collections import Counter\n",
    "from imblearn.over_sampling import SMOTE\n",
    "from imblearn.pipeline import make_pipeline\n",
    "from imblearn.under_sampling import NearMiss"
   ]
  },
  {
   "cell_type": "code",
   "execution_count": null,
   "metadata": {
    "colab": {},
    "colab_type": "code",
    "id": "CGtGEKbqgG4b"
   },
   "outputs": [],
   "source": [
    "filepath = \"./kaggleDataset/Dataset-Unicauca-Version2-87Atts.csv\"\n",
    "df = pd.read_csv(filepath)\n",
    "df.head()"
   ]
  },
  {
   "cell_type": "code",
   "execution_count": null,
   "metadata": {
    "colab": {},
    "colab_type": "code",
    "id": "TPLPD_0_gR51"
   },
   "outputs": [],
   "source": [
    "df.tail()"
   ]
  },
  {
   "cell_type": "code",
   "execution_count": null,
   "metadata": {
    "colab": {},
    "colab_type": "code",
    "id": "MShvj-BKgSBZ"
   },
   "outputs": [],
   "source": [
    "# Function that changes IP addresses into numbers\n",
    "\n",
    "def ip2int(ip):\n",
    "    packedIP = socket.inet_aton(ip)\n",
    "    return struct.unpack(\"!L\", packedIP)[0]"
   ]
  },
  {
   "cell_type": "code",
   "execution_count": null,
   "metadata": {
    "colab": {},
    "colab_type": "code",
    "id": "iTQ0poEYgSKl"
   },
   "outputs": [],
   "source": [
    "# Converting IP addresses into numbers\n",
    "df['Source.IP'] = df['Source.IP'].apply(ip2int)\n",
    "df['Destination.IP'] = df['Destination.IP'].apply(ip2int)"
   ]
  },
  {
   "cell_type": "code",
   "execution_count": null,
   "metadata": {
    "colab": {},
    "colab_type": "code",
    "id": "iBNvGABlgSIV"
   },
   "outputs": [],
   "source": [
    "# Checking if any value in the dataframe is null\n",
    "df.isnull().values.any()"
   ]
  },
  {
   "cell_type": "code",
   "execution_count": null,
   "metadata": {
    "colab": {},
    "colab_type": "code",
    "id": "vPPmAosegSEC"
   },
   "outputs": [],
   "source": [
    "# Checking types of values\n",
    "print(df.dtypes)"
   ]
  },
  {
   "cell_type": "code",
   "execution_count": null,
   "metadata": {
    "colab": {},
    "colab_type": "code",
    "id": "8yopkCSRgR_2"
   },
   "outputs": [],
   "source": [
    "# Checking columns that have only one unique value\n",
    "df.columns[df.nunique() <= 1]"
   ]
  },
  {
   "cell_type": "code",
   "execution_count": null,
   "metadata": {
    "colab": {},
    "colab_type": "code",
    "id": "0dLHbOmrhiO9"
   },
   "outputs": [],
   "source": [
    "# Checking occurance of each application\n",
    "df['ProtocolName'].value_counts()"
   ]
  },
  {
   "cell_type": "code",
   "execution_count": null,
   "metadata": {
    "colab": {},
    "colab_type": "code",
    "id": "vKkg4zvPgR8r"
   },
   "outputs": [],
   "source": [
    "# Features that will be removed from dataset because they have low occurances of records in dataset\n",
    "feats_toDelete = df['ProtocolName'].value_counts()[-25:].index\n",
    "feats_toDelete"
   ]
  },
  {
   "cell_type": "code",
   "execution_count": null,
   "metadata": {
    "colab": {},
    "colab_type": "code",
    "id": "cpiOAA_ahb9Y"
   },
   "outputs": [],
   "source": [
    "# Plot the number of records for individual applications\n",
    "target_count = df['ProtocolName'].value_counts()\n",
    "plt.figure(figsize=(16,10))\n",
    "target_count.plot(kind='bar', title='Occurance');"
   ]
  },
  {
   "cell_type": "code",
   "execution_count": null,
   "metadata": {
    "colab": {},
    "colab_type": "code",
    "id": "-k5oQ7DwhcI8"
   },
   "outputs": [],
   "source": [
    "# Removal of the applications saved in feats_toDelete var because they occur in a small amount of records and do not have a major impact on the model\n",
    "df = df[~df.ProtocolName.isin(feats_toDelete)]"
   ]
  },
  {
   "cell_type": "code",
   "execution_count": null,
   "metadata": {
    "colab": {},
    "colab_type": "code",
    "id": "FX1vYSsbhcEY"
   },
   "outputs": [],
   "source": [
    "# Plot the number of records for individual applications one more time after some application removal\n",
    "target_count2 = df['ProtocolName'].value_counts()\n",
    "plt.figure(figsize=(16,10))\n",
    "target_count2.plot(kind='bar', title='Occurance');"
   ]
  },
  {
   "cell_type": "code",
   "execution_count": null,
   "metadata": {
    "colab": {},
    "colab_type": "code",
    "id": "2XXYH0GbhcAc"
   },
   "outputs": [],
   "source": [
    "feats = [x for x in df.columns if x != 'ProtocolName']\n",
    "X = df[feats].astype(float)\n",
    "Y = df['ProtocolName']"
   ]
  },
  {
   "cell_type": "code",
   "execution_count": null,
   "metadata": {
    "colab": {},
    "colab_type": "code",
    "id": "pRDuqVyMi5Wg"
   },
   "outputs": [],
   "source": [
    "# Convert application names to numbers\n",
    "encoder = LabelEncoder()\n",
    "encoder.fit(Y)\n",
    "encoded_Y = encoder.transform(Y)"
   ]
  },
  {
   "cell_type": "code",
   "execution_count": null,
   "metadata": {
    "colab": {},
    "colab_type": "code",
    "id": "wkIfptABjBob"
   },
   "outputs": [],
   "source": [
    "print(sorted(Counter(Y).items()))"
   ]
  },
  {
   "cell_type": "code",
   "execution_count": null,
   "metadata": {
    "colab": {},
    "colab_type": "code",
    "id": "KV_JT6cmjByr"
   },
   "outputs": [],
   "source": [
    "print(sorted(Counter(encoded_Y).items()))"
   ]
  },
  {
   "cell_type": "code",
   "execution_count": null,
   "metadata": {
    "colab": {},
    "colab_type": "code",
    "id": "4MnHkcAfjB8K"
   },
   "outputs": [],
   "source": [
    "dict_nearMiss = {\n",
    "\"GOOGLE\":            10000,\n",
    "\"HTTP\":              10000,\n",
    "\"HTTP_PROXY\":        10000,\n",
    "\"SSL\":               10000,\n",
    "\"HTTP_CONNECT\":      10000,\n",
    "\"YOUTUBE\":           10000,\n",
    "\"AMAZON\":             10000,\n",
    "\"MICROSOFT\":          10000,\n",
    "\"GMAIL\":              10000,\n",
    "\"WINDOWS_UPDATE\":     10000,\n",
    "\"SKYPE\":              10000,\n",
    "\"FACEBOOK\":           10000,\n",
    "\"DROPBOX\":            10000,\n",
    "\"YAHOO\":              10000,\n",
    "\"TWITTER\":            10000,\n",
    "\"CLOUDFLARE\":         10000,\n",
    "\"MSN\":                10000,\n",
    "}"
   ]
  },
  {
   "cell_type": "code",
   "execution_count": null,
   "metadata": {
    "colab": {},
    "colab_type": "code",
    "id": "TwDBQ1-JjSAr"
   },
   "outputs": [],
   "source": [
    "dict_smote = { \"CONTENT_FLASH\":       10000,\n",
    "\"APPLE\":               10000,\n",
    "\"OFFICE_365\":        10000,\n",
    "\"WHATSAPP\":            10000,\n",
    "\"INSTAGRAM\":          10000,\n",
    "\"WIKIPEDIA\":           10000,\n",
    "\"MS_ONE_DRIVE\":        10000,\n",
    "\"DNS\":                 10000,\n",
    "\"IP_ICMP\":             10000,\n",
    "\"NETFLIX\":             10000,\n",
    "\"APPLE_ITUNES\":        10000,\n",
    "\"SPOTIFY\":             10000,\n",
    "\"APPLE_ICLOUD\":        10000,\n",
    "\"EBAY\":               10000,\n",
    "\"SSL_NO_CERT\":          10000,\n",
    "\"GOOGLE_MAPS\":          10000,\n",
    "\"EASYTAXI\":             10000,\n",
    "\"TEAMVIEWER\":           10000,\n",
    "\"HTTP_DOWNLOAD\":        10000,\n",
    "\"MQTT\":                 10000,\n",
    "\"TOR\":                  10000,\n",
    "\"FTP_DATA\":             10000,\n",
    "\"UBUNTUONE\":            10000,\n",
    "\"NTP\":                  10000,\n",
    "\"SSH\": 10000}\n",
    "print(dict_smote2)"
   ]
  },
  {
   "cell_type": "code",
   "execution_count": null,
   "metadata": {
    "colab": {},
    "colab_type": "code",
    "id": "K7dP53mOjSHh"
   },
   "outputs": [],
   "source": [
    "# getting rid of the problem of unbalanced data set\n",
    "pipe = make_pipeline(\n",
    "    SMOTE(sampling_strategy=dict_smote),\n",
    "    NearMiss(sampling_strategy=dict_nearMiss)\n",
    ")"
   ]
  },
  {
   "cell_type": "code",
   "execution_count": null,
   "metadata": {
    "colab": {},
    "colab_type": "code",
    "id": "7QfHvbZ_jSEi"
   },
   "outputs": [],
   "source": [
    "X_resampled, y_resampled = pipe.fit_resample(X, Y)"
   ]
  },
  {
   "cell_type": "code",
   "execution_count": null,
   "metadata": {
    "colab": {},
    "colab_type": "code",
    "id": "asDCsvf6jb7q"
   },
   "outputs": [],
   "source": [
    "print(\"Shape pierwotnego pliku \" + str(df.shape))\n",
    "print(\"Shape X \" + str(X.shape))\n",
    "print(\"Shape X_resampled\" + str(X_resampled.shape))\n",
    "print(\"Shape Y \" + str(Y.shape))\n",
    "print(\"Shape y_resampled\" + str(y_resampled.shape))"
   ]
  },
  {
   "cell_type": "code",
   "execution_count": null,
   "metadata": {
    "colab": {},
    "colab_type": "code",
    "id": "tv0GU1ZSjcB6"
   },
   "outputs": [],
   "source": [
    "# creating new dataset\n",
    "new_dataframe = pd.DataFrame(data = X_resampled, columns = feats) "
   ]
  },
  {
   "cell_type": "code",
   "execution_count": null,
   "metadata": {
    "colab": {},
    "colab_type": "code",
    "id": "Lf8rzFYxjb_I"
   },
   "outputs": [],
   "source": [
    "new_dataframe['ProtocolName'] = y_resampled"
   ]
  },
  {
   "cell_type": "code",
   "execution_count": null,
   "metadata": {
    "colab": {},
    "colab_type": "code",
    "id": "p-zyOV5SjiwT"
   },
   "outputs": [],
   "source": [
    "new_dataframe.describe()"
   ]
  },
  {
   "cell_type": "code",
   "execution_count": null,
   "metadata": {
    "colab": {},
    "colab_type": "code",
    "id": "sVMJRD73ji26"
   },
   "outputs": [],
   "source": [
    "new_dataframe.to_csv('KaggleImbalanced.csv', index=False)"
   ]
  }
 ],
 "metadata": {
  "colab": {
   "name": "DataPreprocessing.ipynb",
   "provenance": []
  },
  "kernelspec": {
   "display_name": "Python 3",
   "language": "python",
   "name": "python3"
  },
  "language_info": {
   "codemirror_mode": {
    "name": "ipython",
    "version": 3
   },
   "file_extension": ".py",
   "mimetype": "text/x-python",
   "name": "python",
   "nbconvert_exporter": "python",
   "pygments_lexer": "ipython3",
   "version": "3.10.0"
  }
 },
 "nbformat": 4,
 "nbformat_minor": 1
}
